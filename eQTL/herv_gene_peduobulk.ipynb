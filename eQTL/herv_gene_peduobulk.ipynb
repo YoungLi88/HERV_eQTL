{
 "cells": [
  {
   "cell_type": "code",
   "execution_count": 3,
   "id": "a9576e9f-5aae-4d8d-b847-ed46946feaf5",
   "metadata": {},
   "outputs": [],
   "source": [
    "import pandas as pd\n",
    "import numpy as np\n",
    "import scanpy as sc\n",
    "from glob import glob\n",
    "from scipy.sparse import issparse\n",
    "\n",
    "import seaborn as sns\n",
    "import matplotlib.pyplot as plt\n",
    "\n",
    "sc.settings.verbosity = 3 \n",
    "plt.rcParams['pdf.fonttype'] = 42\n",
    "plt.rcParams['font.sans-serif'] = 'Arial'\n",
    "sns.set_style('white', {'axes.grid' : False})"
   ]
  },
  {
   "cell_type": "markdown",
   "id": "29dd209c-a9ab-4e6e-8ac1-a7626e4945e4",
   "metadata": {},
   "source": [
    "## bulk_herv_celltype"
   ]
  },
  {
   "cell_type": "code",
   "execution_count": 5,
   "id": "c6dcd6eb-74bd-4b1f-b6f4-3516b767ec49",
   "metadata": {},
   "outputs": [],
   "source": [
    "def adata_group(adata, groupby, layer=None, use_raw=False, min_cells=0):\n",
    "    \n",
    "    counts = adata.obs[groupby].value_counts() \n",
    "    indiv = counts[counts >= min_cells].index\n",
    "    adata = adata[adata.obs[groupby].isin(indiv), :]\n",
    "    index = adata.obs[groupby].unique()\n",
    "    if use_raw:\n",
    "        adata = adata.raw.to_adata()\n",
    "    \n",
    "    if layer is not None:\n",
    "        csr = adata.layers[layer]\n",
    "    else:\n",
    "        csr = adata.X\n",
    "    \n",
    "    df = pd.DataFrame([np.array(csr[adata.obs[groupby]==x, :].sum(axis=0))[0, :] for x in index], index=index, columns=adata.var_names)\n",
    "    \n",
    "    bulk = sc.AnnData(df)\n",
    "    \n",
    "    age_dict = dict(zip(adata.obs[groupby], adata.obs['age']))\n",
    "    sex_dict = dict(zip(adata.obs[groupby], adata.obs['sex']))\n",
    "    #age_phase_dict = dict(zip(adata.obs[groupby], adata.obs['age_phase']))\n",
    "    #age_stage_dict = dict(zip(adata.obs[groupby], adata.obs['age_stage']))\n",
    "    bulk.obs['age'] = [age_dict[x] for x in bulk.obs_names]\n",
    "    bulk.obs['sex'] = [sex_dict[x] for x in bulk.obs_names]\n",
    "    #bulk.obs['age_phase'] = [age_phase_dict[x] for x in bulk.obs_names]\n",
    "    #bulk.obs['age_stage'] = [age_stage_dict[x] for x in bulk.obs_names]\n",
    "    bulk.obs[groupby] = bulk.obs_names.values\n",
    "    return bulk"
   ]
  },
  {
   "cell_type": "code",
   "execution_count": 6,
   "id": "9d003414-7630-4f77-8150-066ba90a080d",
   "metadata": {},
   "outputs": [],
   "source": [
    "herv = sc.read_h5ad('herv_gene.h5ad')"
   ]
  },
  {
   "cell_type": "code",
   "execution_count": 7,
   "id": "ab938e34-eefe-4097-a40b-a9e83353fef2",
   "metadata": {},
   "outputs": [
    {
     "data": {
      "text/html": [
       "<div>\n",
       "<style scoped>\n",
       "    .dataframe tbody tr th:only-of-type {\n",
       "        vertical-align: middle;\n",
       "    }\n",
       "\n",
       "    .dataframe tbody tr th {\n",
       "        vertical-align: top;\n",
       "    }\n",
       "\n",
       "    .dataframe thead th {\n",
       "        text-align: right;\n",
       "    }\n",
       "</style>\n",
       "<table border=\"1\" class=\"dataframe\">\n",
       "  <thead>\n",
       "    <tr style=\"text-align: right;\">\n",
       "      <th></th>\n",
       "      <th>mt</th>\n",
       "      <th>n_cells_by_counts</th>\n",
       "      <th>mean_counts</th>\n",
       "      <th>pct_dropout_by_counts</th>\n",
       "      <th>total_counts</th>\n",
       "      <th>n_cells</th>\n",
       "      <th>name</th>\n",
       "      <th>type</th>\n",
       "    </tr>\n",
       "  </thead>\n",
       "  <tbody>\n",
       "    <tr>\n",
       "      <th>BX004987.1</th>\n",
       "      <td>False</td>\n",
       "      <td>1065</td>\n",
       "      <td>0.000889</td>\n",
       "      <td>99.911532</td>\n",
       "      <td>1070.0</td>\n",
       "      <td>1065</td>\n",
       "      <td>BX004987.1</td>\n",
       "      <td>gene</td>\n",
       "    </tr>\n",
       "    <tr>\n",
       "      <th>AC145212.1</th>\n",
       "      <td>False</td>\n",
       "      <td>1091</td>\n",
       "      <td>0.000909</td>\n",
       "      <td>99.909372</td>\n",
       "      <td>1094.0</td>\n",
       "      <td>1091</td>\n",
       "      <td>AC145212.1</td>\n",
       "      <td>gene</td>\n",
       "    </tr>\n",
       "    <tr>\n",
       "      <th>MAFIP</th>\n",
       "      <td>False</td>\n",
       "      <td>3781</td>\n",
       "      <td>0.003180</td>\n",
       "      <td>99.685918</td>\n",
       "      <td>3828.0</td>\n",
       "      <td>3781</td>\n",
       "      <td>MAFIP</td>\n",
       "      <td>gene</td>\n",
       "    </tr>\n",
       "    <tr>\n",
       "      <th>AC011043.1</th>\n",
       "      <td>False</td>\n",
       "      <td>656</td>\n",
       "      <td>0.000548</td>\n",
       "      <td>99.945507</td>\n",
       "      <td>660.0</td>\n",
       "      <td>656</td>\n",
       "      <td>AC011043.1</td>\n",
       "      <td>gene</td>\n",
       "    </tr>\n",
       "    <tr>\n",
       "      <th>AL354822.1</th>\n",
       "      <td>False</td>\n",
       "      <td>4500</td>\n",
       "      <td>0.003781</td>\n",
       "      <td>99.626192</td>\n",
       "      <td>4552.0</td>\n",
       "      <td>4500</td>\n",
       "      <td>AL354822.1</td>\n",
       "      <td>gene</td>\n",
       "    </tr>\n",
       "    <tr>\n",
       "      <th>...</th>\n",
       "      <td>...</td>\n",
       "      <td>...</td>\n",
       "      <td>...</td>\n",
       "      <td>...</td>\n",
       "      <td>...</td>\n",
       "      <td>...</td>\n",
       "      <td>...</td>\n",
       "      <td>...</td>\n",
       "    </tr>\n",
       "    <tr>\n",
       "      <th>THE1C_dup93-chrY</th>\n",
       "      <td>False</td>\n",
       "      <td>96</td>\n",
       "      <td>0.000082</td>\n",
       "      <td>99.992025</td>\n",
       "      <td>99.0</td>\n",
       "      <td>96</td>\n",
       "      <td>THE1C_dup93-chrY</td>\n",
       "      <td>herv</td>\n",
       "    </tr>\n",
       "    <tr>\n",
       "      <th>LTR16A_dup4-chrY</th>\n",
       "      <td>False</td>\n",
       "      <td>96</td>\n",
       "      <td>0.000081</td>\n",
       "      <td>99.992025</td>\n",
       "      <td>97.0</td>\n",
       "      <td>96</td>\n",
       "      <td>LTR16A_dup4-chrY</td>\n",
       "      <td>herv</td>\n",
       "    </tr>\n",
       "    <tr>\n",
       "      <th>HERVL-int_dup39-chrY</th>\n",
       "      <td>False</td>\n",
       "      <td>38</td>\n",
       "      <td>0.000032</td>\n",
       "      <td>99.996843</td>\n",
       "      <td>38.0</td>\n",
       "      <td>38</td>\n",
       "      <td>HERVL-int_dup39-chrY</td>\n",
       "      <td>herv</td>\n",
       "    </tr>\n",
       "    <tr>\n",
       "      <th>PRORY</th>\n",
       "      <td>False</td>\n",
       "      <td>30</td>\n",
       "      <td>0.000025</td>\n",
       "      <td>99.997508</td>\n",
       "      <td>30.0</td>\n",
       "      <td>30</td>\n",
       "      <td>PRORY</td>\n",
       "      <td>gene</td>\n",
       "    </tr>\n",
       "    <tr>\n",
       "      <th>LINC00266-4P</th>\n",
       "      <td>False</td>\n",
       "      <td>45</td>\n",
       "      <td>0.000037</td>\n",
       "      <td>99.996262</td>\n",
       "      <td>45.0</td>\n",
       "      <td>45</td>\n",
       "      <td>LINC00266-4P</td>\n",
       "      <td>gene</td>\n",
       "    </tr>\n",
       "  </tbody>\n",
       "</table>\n",
       "<p>66509 rows × 8 columns</p>\n",
       "</div>"
      ],
      "text/plain": [
       "                         mt  n_cells_by_counts  mean_counts  \\\n",
       "BX004987.1            False               1065     0.000889   \n",
       "AC145212.1            False               1091     0.000909   \n",
       "MAFIP                 False               3781     0.003180   \n",
       "AC011043.1            False                656     0.000548   \n",
       "AL354822.1            False               4500     0.003781   \n",
       "...                     ...                ...          ...   \n",
       "THE1C_dup93-chrY      False                 96     0.000082   \n",
       "LTR16A_dup4-chrY      False                 96     0.000081   \n",
       "HERVL-int_dup39-chrY  False                 38     0.000032   \n",
       "PRORY                 False                 30     0.000025   \n",
       "LINC00266-4P          False                 45     0.000037   \n",
       "\n",
       "                      pct_dropout_by_counts  total_counts  n_cells  \\\n",
       "BX004987.1                        99.911532        1070.0     1065   \n",
       "AC145212.1                        99.909372        1094.0     1091   \n",
       "MAFIP                             99.685918        3828.0     3781   \n",
       "AC011043.1                        99.945507         660.0      656   \n",
       "AL354822.1                        99.626192        4552.0     4500   \n",
       "...                                     ...           ...      ...   \n",
       "THE1C_dup93-chrY                  99.992025          99.0       96   \n",
       "LTR16A_dup4-chrY                  99.992025          97.0       96   \n",
       "HERVL-int_dup39-chrY              99.996843          38.0       38   \n",
       "PRORY                             99.997508          30.0       30   \n",
       "LINC00266-4P                      99.996262          45.0       45   \n",
       "\n",
       "                                      name  type  \n",
       "BX004987.1                      BX004987.1  gene  \n",
       "AC145212.1                      AC145212.1  gene  \n",
       "MAFIP                                MAFIP  gene  \n",
       "AC011043.1                      AC011043.1  gene  \n",
       "AL354822.1                      AL354822.1  gene  \n",
       "...                                    ...   ...  \n",
       "THE1C_dup93-chrY          THE1C_dup93-chrY  herv  \n",
       "LTR16A_dup4-chrY          LTR16A_dup4-chrY  herv  \n",
       "HERVL-int_dup39-chrY  HERVL-int_dup39-chrY  herv  \n",
       "PRORY                                PRORY  gene  \n",
       "LINC00266-4P                  LINC00266-4P  gene  \n",
       "\n",
       "[66509 rows x 8 columns]"
      ]
     },
     "execution_count": 7,
     "metadata": {},
     "output_type": "execute_result"
    }
   ],
   "source": [
    "herv.var"
   ]
  },
  {
   "cell_type": "code",
   "execution_count": 8,
   "id": "ea612a88-880d-43eb-a3a6-8d86312c917e",
   "metadata": {},
   "outputs": [],
   "source": [
    "herv.obs['indiv_ID_celltype'] = herv.obs['indiv_ID'].astype(\"str\") +\"_\" + herv.obs['celltype'].astype(\"str\")"
   ]
  },
  {
   "cell_type": "code",
   "execution_count": 9,
   "id": "cf09edfa-2999-437b-b936-67e90362cff0",
   "metadata": {},
   "outputs": [],
   "source": [
    "bulk_herv = adata_group(herv,groupby = \"indiv_ID_celltype\")"
   ]
  },
  {
   "cell_type": "code",
   "execution_count": 10,
   "id": "ac2a03a9-757c-47d5-9b7b-89fdf10b796d",
   "metadata": {},
   "outputs": [
    {
     "name": "stdout",
     "output_type": "stream",
     "text": [
      "normalizing counts per cell\n",
      "    finished (0:00:00)\n"
     ]
    }
   ],
   "source": [
    "sc.pp.normalize_total(bulk_herv,target_sum=1e6)\n",
    "sc.pp.log1p(bulk_herv)"
   ]
  },
  {
   "cell_type": "code",
   "execution_count": 11,
   "id": "987b09f2-7e5a-4252-8474-661e7a7543cc",
   "metadata": {},
   "outputs": [],
   "source": [
    "bulk_herv.var['type'] = herv.var['type']"
   ]
  },
  {
   "cell_type": "code",
   "execution_count": 12,
   "id": "1bbf7074-ff10-400a-ad2c-1c7744c9ab42",
   "metadata": {},
   "outputs": [],
   "source": [
    "bulk_gene = bulk_herv[:,herv.var[herv.var['type'] == \"gene\"]['name']].copy()\n",
    "bulk_herv = bulk_herv[:,herv.var[herv.var['type'] == \"herv\"]['name']].copy()"
   ]
  },
  {
   "cell_type": "code",
   "execution_count": 13,
   "id": "ed9e0fe2-c4c0-4d52-9865-35f7290f1b14",
   "metadata": {},
   "outputs": [],
   "source": [
    "bulk_herv_df = pd.DataFrame(data=bulk_herv.X,index=bulk_herv.obs_names,columns=bulk_herv.var_names)\n",
    "bulk_herv_df.to_csv(\"./expression/herv_bulk_celltype.csv\",sep = \"\\t\")"
   ]
  },
  {
   "cell_type": "code",
   "execution_count": 14,
   "id": "a8b9bec6-d86c-4f70-8078-4ffcec48a80a",
   "metadata": {},
   "outputs": [],
   "source": [
    "bulk_gene.write_h5ad('./gene_bulk_celltype.h5ad')\n",
    "bulk_herv.write_h5ad('./herv_bulk_celltype.h5ad')"
   ]
  },
  {
   "cell_type": "code",
   "execution_count": 15,
   "id": "152877c7-e1e2-4825-9050-21d70529d6af",
   "metadata": {},
   "outputs": [],
   "source": [
    "bulk_herv_df['name'] = bulk_herv_df.index\n",
    "bulk_herv_df['celltype'] = bulk_herv_df['name'].apply(lambda x : x.split(\"_\")[-1])\n",
    "bulk_herv_df['indiv_ID'] = bulk_herv_df['name'].apply(lambda x : x.split(\"_\")[0]+ \"_\" + x.split(\"_\")[1])"
   ]
  },
  {
   "cell_type": "code",
   "execution_count": 16,
   "id": "35498f13-436c-4f55-b929-c4f5311987bd",
   "metadata": {},
   "outputs": [],
   "source": [
    "bulk_herv_df.index = bulk_herv_df['indiv_ID']"
   ]
  },
  {
   "cell_type": "code",
   "execution_count": 18,
   "id": "0c3bd2f2-9f6d-4605-b7d9-1159361a20cb",
   "metadata": {},
   "outputs": [],
   "source": [
    "for celltype in ['CD4-T','CD8-T','NK','Bcells','Myeloid']:\n",
    "    bulk_herv_df[bulk_herv_df['celltype'].isin([celltype])].iloc[:,:-3].to_csv(f'./expression/{celltype}_herv.csv',sep = \"\\t\")"
   ]
  },
  {
   "cell_type": "code",
   "execution_count": null,
   "id": "16746971-f110-494f-9791-7b51da84464c",
   "metadata": {},
   "outputs": [],
   "source": []
  },
  {
   "cell_type": "code",
   "execution_count": null,
   "id": "6e144398-762a-454b-b893-f4abebbdf443",
   "metadata": {},
   "outputs": [],
   "source": []
  },
  {
   "cell_type": "markdown",
   "id": "1e757162-1ebe-4af0-a24e-6cc61f3e0a89",
   "metadata": {},
   "source": [
    "## bulk_herv_indiv"
   ]
  },
  {
   "cell_type": "code",
   "execution_count": 4,
   "id": "d7ecea1d-fa03-4d02-8f03-5823acf7f2a3",
   "metadata": {},
   "outputs": [],
   "source": [
    "herv = sc.read_h5ad('herv_gene.h5ad')"
   ]
  },
  {
   "cell_type": "code",
   "execution_count": 6,
   "id": "b7eff06a-a443-41d6-b539-f4617a4da110",
   "metadata": {},
   "outputs": [],
   "source": [
    "bulk_herv_indiv = adata_group(herv,groupby = \"indiv_ID\")\n",
    "#bulk_gene_indiv = adata_group(adata_ref_gene,groupby = \"indiv_ID\",layer='counts')"
   ]
  },
  {
   "cell_type": "code",
   "execution_count": 7,
   "id": "85d64ab2-3c2d-4985-8e9e-99d750f5af70",
   "metadata": {},
   "outputs": [
    {
     "name": "stdout",
     "output_type": "stream",
     "text": [
      "normalizing counts per cell\n",
      "    finished (0:00:00)\n"
     ]
    }
   ],
   "source": [
    "sc.pp.normalize_total(bulk_herv_indiv,target_sum=1e6)\n",
    "sc.pp.log1p(bulk_herv_indiv)"
   ]
  },
  {
   "cell_type": "code",
   "execution_count": 9,
   "id": "5fcfe45c-b57a-4a9a-bc3a-cc2bf5cb3446",
   "metadata": {},
   "outputs": [],
   "source": [
    "bulk_herv_indiv.var['type'] = herv.var['type']"
   ]
  },
  {
   "cell_type": "code",
   "execution_count": 11,
   "id": "4fa9cd0a-0198-443c-9c7e-ffd31bd1150d",
   "metadata": {},
   "outputs": [
    {
     "name": "stderr",
     "output_type": "stream",
     "text": [
      "/home/zhufan/anaconda3/envs/cellphonedb/lib/python3.12/site-packages/anndata/_core/anndata.py:1301: ImplicitModificationWarning: Trying to modify attribute `.obs` of view, initializing view as actual.\n",
      "  df[key] = c\n",
      "/home/zhufan/anaconda3/envs/cellphonedb/lib/python3.12/site-packages/anndata/_core/anndata.py:1301: ImplicitModificationWarning: Trying to modify attribute `.obs` of view, initializing view as actual.\n",
      "  df[key] = c\n"
     ]
    }
   ],
   "source": [
    "bulk_herv_indiv[:,herv.var['type'] == \"herv\"].write('herv_indiv.h5ad')\n",
    "bulk_herv_indiv[:,herv.var['type'] == \"gene\"].write('gene_indiv.h5ad')"
   ]
  },
  {
   "cell_type": "code",
   "execution_count": 20,
   "id": "e1382062-3821-4942-8784-d607dd595e1c",
   "metadata": {},
   "outputs": [
    {
     "data": {
      "text/html": [
       "<div>\n",
       "<style scoped>\n",
       "    .dataframe tbody tr th:only-of-type {\n",
       "        vertical-align: middle;\n",
       "    }\n",
       "\n",
       "    .dataframe tbody tr th {\n",
       "        vertical-align: top;\n",
       "    }\n",
       "\n",
       "    .dataframe thead th {\n",
       "        text-align: right;\n",
       "    }\n",
       "</style>\n",
       "<table border=\"1\" class=\"dataframe\">\n",
       "  <thead>\n",
       "    <tr style=\"text-align: right;\">\n",
       "      <th></th>\n",
       "      <th>mt</th>\n",
       "      <th>n_cells_by_counts</th>\n",
       "      <th>mean_counts</th>\n",
       "      <th>pct_dropout_by_counts</th>\n",
       "      <th>total_counts</th>\n",
       "      <th>n_cells</th>\n",
       "      <th>name</th>\n",
       "      <th>type</th>\n",
       "    </tr>\n",
       "  </thead>\n",
       "  <tbody>\n",
       "    <tr>\n",
       "      <th>BX004987.1</th>\n",
       "      <td>False</td>\n",
       "      <td>1065</td>\n",
       "      <td>0.000889</td>\n",
       "      <td>99.911532</td>\n",
       "      <td>1070.0</td>\n",
       "      <td>1065</td>\n",
       "      <td>BX004987.1</td>\n",
       "      <td>gene</td>\n",
       "    </tr>\n",
       "    <tr>\n",
       "      <th>AC145212.1</th>\n",
       "      <td>False</td>\n",
       "      <td>1091</td>\n",
       "      <td>0.000909</td>\n",
       "      <td>99.909372</td>\n",
       "      <td>1094.0</td>\n",
       "      <td>1091</td>\n",
       "      <td>AC145212.1</td>\n",
       "      <td>gene</td>\n",
       "    </tr>\n",
       "    <tr>\n",
       "      <th>MAFIP</th>\n",
       "      <td>False</td>\n",
       "      <td>3781</td>\n",
       "      <td>0.003180</td>\n",
       "      <td>99.685918</td>\n",
       "      <td>3828.0</td>\n",
       "      <td>3781</td>\n",
       "      <td>MAFIP</td>\n",
       "      <td>gene</td>\n",
       "    </tr>\n",
       "    <tr>\n",
       "      <th>AC011043.1</th>\n",
       "      <td>False</td>\n",
       "      <td>656</td>\n",
       "      <td>0.000548</td>\n",
       "      <td>99.945507</td>\n",
       "      <td>660.0</td>\n",
       "      <td>656</td>\n",
       "      <td>AC011043.1</td>\n",
       "      <td>gene</td>\n",
       "    </tr>\n",
       "    <tr>\n",
       "      <th>AL354822.1</th>\n",
       "      <td>False</td>\n",
       "      <td>4500</td>\n",
       "      <td>0.003781</td>\n",
       "      <td>99.626192</td>\n",
       "      <td>4552.0</td>\n",
       "      <td>4500</td>\n",
       "      <td>AL354822.1</td>\n",
       "      <td>gene</td>\n",
       "    </tr>\n",
       "    <tr>\n",
       "      <th>...</th>\n",
       "      <td>...</td>\n",
       "      <td>...</td>\n",
       "      <td>...</td>\n",
       "      <td>...</td>\n",
       "      <td>...</td>\n",
       "      <td>...</td>\n",
       "      <td>...</td>\n",
       "      <td>...</td>\n",
       "    </tr>\n",
       "    <tr>\n",
       "      <th>THE1C_dup93-chrY</th>\n",
       "      <td>False</td>\n",
       "      <td>96</td>\n",
       "      <td>0.000082</td>\n",
       "      <td>99.992025</td>\n",
       "      <td>99.0</td>\n",
       "      <td>96</td>\n",
       "      <td>THE1C_dup93-chrY</td>\n",
       "      <td>herv</td>\n",
       "    </tr>\n",
       "    <tr>\n",
       "      <th>LTR16A_dup4-chrY</th>\n",
       "      <td>False</td>\n",
       "      <td>96</td>\n",
       "      <td>0.000081</td>\n",
       "      <td>99.992025</td>\n",
       "      <td>97.0</td>\n",
       "      <td>96</td>\n",
       "      <td>LTR16A_dup4-chrY</td>\n",
       "      <td>herv</td>\n",
       "    </tr>\n",
       "    <tr>\n",
       "      <th>HERVL-int_dup39-chrY</th>\n",
       "      <td>False</td>\n",
       "      <td>38</td>\n",
       "      <td>0.000032</td>\n",
       "      <td>99.996843</td>\n",
       "      <td>38.0</td>\n",
       "      <td>38</td>\n",
       "      <td>HERVL-int_dup39-chrY</td>\n",
       "      <td>herv</td>\n",
       "    </tr>\n",
       "    <tr>\n",
       "      <th>PRORY</th>\n",
       "      <td>False</td>\n",
       "      <td>30</td>\n",
       "      <td>0.000025</td>\n",
       "      <td>99.997508</td>\n",
       "      <td>30.0</td>\n",
       "      <td>30</td>\n",
       "      <td>PRORY</td>\n",
       "      <td>gene</td>\n",
       "    </tr>\n",
       "    <tr>\n",
       "      <th>LINC00266-4P</th>\n",
       "      <td>False</td>\n",
       "      <td>45</td>\n",
       "      <td>0.000037</td>\n",
       "      <td>99.996262</td>\n",
       "      <td>45.0</td>\n",
       "      <td>45</td>\n",
       "      <td>LINC00266-4P</td>\n",
       "      <td>gene</td>\n",
       "    </tr>\n",
       "  </tbody>\n",
       "</table>\n",
       "<p>66509 rows × 8 columns</p>\n",
       "</div>"
      ],
      "text/plain": [
       "                         mt  n_cells_by_counts  mean_counts  \\\n",
       "BX004987.1            False               1065     0.000889   \n",
       "AC145212.1            False               1091     0.000909   \n",
       "MAFIP                 False               3781     0.003180   \n",
       "AC011043.1            False                656     0.000548   \n",
       "AL354822.1            False               4500     0.003781   \n",
       "...                     ...                ...          ...   \n",
       "THE1C_dup93-chrY      False                 96     0.000082   \n",
       "LTR16A_dup4-chrY      False                 96     0.000081   \n",
       "HERVL-int_dup39-chrY  False                 38     0.000032   \n",
       "PRORY                 False                 30     0.000025   \n",
       "LINC00266-4P          False                 45     0.000037   \n",
       "\n",
       "                      pct_dropout_by_counts  total_counts  n_cells  \\\n",
       "BX004987.1                        99.911532        1070.0     1065   \n",
       "AC145212.1                        99.909372        1094.0     1091   \n",
       "MAFIP                             99.685918        3828.0     3781   \n",
       "AC011043.1                        99.945507         660.0      656   \n",
       "AL354822.1                        99.626192        4552.0     4500   \n",
       "...                                     ...           ...      ...   \n",
       "THE1C_dup93-chrY                  99.992025          99.0       96   \n",
       "LTR16A_dup4-chrY                  99.992025          97.0       96   \n",
       "HERVL-int_dup39-chrY              99.996843          38.0       38   \n",
       "PRORY                             99.997508          30.0       30   \n",
       "LINC00266-4P                      99.996262          45.0       45   \n",
       "\n",
       "                                      name  type  \n",
       "BX004987.1                      BX004987.1  gene  \n",
       "AC145212.1                      AC145212.1  gene  \n",
       "MAFIP                                MAFIP  gene  \n",
       "AC011043.1                      AC011043.1  gene  \n",
       "AL354822.1                      AL354822.1  gene  \n",
       "...                                    ...   ...  \n",
       "THE1C_dup93-chrY          THE1C_dup93-chrY  herv  \n",
       "LTR16A_dup4-chrY          LTR16A_dup4-chrY  herv  \n",
       "HERVL-int_dup39-chrY  HERVL-int_dup39-chrY  herv  \n",
       "PRORY                                PRORY  gene  \n",
       "LINC00266-4P                  LINC00266-4P  gene  \n",
       "\n",
       "[66509 rows x 8 columns]"
      ]
     },
     "execution_count": 20,
     "metadata": {},
     "output_type": "execute_result"
    }
   ],
   "source": [
    "herv.var"
   ]
  },
  {
   "cell_type": "code",
   "execution_count": 21,
   "id": "89959393-c995-4850-91bb-d3cfaf99ee72",
   "metadata": {},
   "outputs": [
    {
     "data": {
      "text/plain": [
       "ArrayView([[0.        , 0.23121397, 0.        , ..., 0.23121397,\n",
       "            0.        , 0.23121397],\n",
       "           [0.        , 0.        , 0.        , ..., 0.        ,\n",
       "            0.        , 0.        ],\n",
       "           [0.        , 0.        , 0.        , ..., 0.        ,\n",
       "            0.        , 0.        ],\n",
       "           ...,\n",
       "           [0.        , 0.3128227 , 0.        , ..., 0.        ,\n",
       "            0.        , 0.        ],\n",
       "           [0.        , 0.        , 0.        , ..., 0.        ,\n",
       "            0.        , 0.        ],\n",
       "           [0.        , 0.        , 0.        , ..., 0.        ,\n",
       "            0.        , 0.        ]], dtype=float32)"
      ]
     },
     "execution_count": 21,
     "metadata": {},
     "output_type": "execute_result"
    }
   ],
   "source": [
    "bulk_herv_indiv[:,herv.var['type'] == \"herv\"].X"
   ]
  },
  {
   "cell_type": "code",
   "execution_count": 22,
   "id": "c0cdc372-a1ac-4588-9eb9-9da9e011bedb",
   "metadata": {},
   "outputs": [
    {
     "data": {
      "text/plain": [
       "View of AnnData object with n_obs × n_vars = 981 × 41460\n",
       "    obs: 'age', 'sex', 'indiv_ID'\n",
       "    var: 'type'\n",
       "    uns: 'log1p'"
      ]
     },
     "execution_count": 22,
     "metadata": {},
     "output_type": "execute_result"
    }
   ],
   "source": [
    "bulk_herv_indiv[:,herv.var['type'] == \"herv\"]"
   ]
  },
  {
   "cell_type": "code",
   "execution_count": null,
   "id": "f425cd16-3028-405c-a18f-556a8403fefa",
   "metadata": {},
   "outputs": [],
   "source": []
  },
  {
   "cell_type": "code",
   "execution_count": 5,
   "id": "44181494-fea7-4a11-91b0-0cc11ea1e3a7",
   "metadata": {},
   "outputs": [],
   "source": [
    "herv = sc.read_h5ad('herv.h5ad')"
   ]
  },
  {
   "cell_type": "code",
   "execution_count": 26,
   "id": "3d769744-5ff0-472d-befc-f16f9b60f070",
   "metadata": {},
   "outputs": [],
   "source": [
    "tmp = herv[:,herv.var['name'] == \"RNASET2\"].copy()"
   ]
  },
  {
   "cell_type": "code",
   "execution_count": 27,
   "id": "3f7f2ad5-c162-44b1-8c6b-28e100432193",
   "metadata": {},
   "outputs": [
    {
     "name": "stdout",
     "output_type": "stream",
     "text": [
      "filtered out 725529 cells that have less than 1 genes expressed\n"
     ]
    }
   ],
   "source": [
    "sc.pp.filter_cells(tmp,min_genes=1)"
   ]
  },
  {
   "cell_type": "code",
   "execution_count": 28,
   "id": "8a214419-00a2-4dd8-b12a-f22a481b6a98",
   "metadata": {},
   "outputs": [
    {
     "data": {
      "text/plain": [
       "batch\n",
       "GSM5899885    9525\n",
       "GSM5899882    9138\n",
       "GSM5899897    9049\n",
       "GSM5899895    9023\n",
       "GSM5899904    8786\n",
       "              ... \n",
       "GSM5899931    4267\n",
       "GSM5899908    4131\n",
       "GSM5899937    3993\n",
       "GSM5899930    3913\n",
       "GSM5899944    3835\n",
       "Name: count, Length: 75, dtype: int64"
      ]
     },
     "execution_count": 28,
     "metadata": {},
     "output_type": "execute_result"
    }
   ],
   "source": [
    "tmp.obs['batch'].value_counts()"
   ]
  },
  {
   "cell_type": "code",
   "execution_count": 22,
   "id": "8188f032-66a0-41f4-9862-f8d62d4c284c",
   "metadata": {},
   "outputs": [
    {
     "data": {
      "text/plain": [
       "batch\n",
       "GSM5899925    21\n",
       "GSM5899917    19\n",
       "GSM5899946    16\n",
       "GSM5899874    16\n",
       "GSM5899882    15\n",
       "              ..\n",
       "GSM5899931     2\n",
       "GSM5899893     2\n",
       "GSM5899905     2\n",
       "GSM5899944     1\n",
       "GSM5899936     1\n",
       "Name: count, Length: 74, dtype: int64"
      ]
     },
     "execution_count": 22,
     "metadata": {},
     "output_type": "execute_result"
    }
   ],
   "source": [
    "tmp.obs['batch'].value_counts()"
   ]
  },
  {
   "cell_type": "code",
   "execution_count": 29,
   "id": "79f19052-11d4-462c-b4cc-c17c33a9e9fc",
   "metadata": {},
   "outputs": [
    {
     "data": {
      "text/plain": [
       "celltype\n",
       "CD4-T      271967\n",
       "CD8-T       62742\n",
       "Bcells      61654\n",
       "Myeloid     39753\n",
       "NK          34835\n",
       "gdT          2756\n",
       "Plasma       2473\n",
       "Mega         1252\n",
       "HSC           864\n",
       "Name: count, dtype: int64"
      ]
     },
     "execution_count": 29,
     "metadata": {},
     "output_type": "execute_result"
    }
   ],
   "source": [
    "tmp.obs['celltype'].value_counts()"
   ]
  },
  {
   "cell_type": "code",
   "execution_count": null,
   "id": "c1e083b4-301a-48f9-9d9b-c12adbfa01b4",
   "metadata": {},
   "outputs": [],
   "source": []
  }
 ],
 "metadata": {
  "kernelspec": {
   "display_name": "cellphonedb",
   "language": "python",
   "name": "liuyi11"
  },
  "language_info": {
   "codemirror_mode": {
    "name": "ipython",
    "version": 3
   },
   "file_extension": ".py",
   "mimetype": "text/x-python",
   "name": "python",
   "nbconvert_exporter": "python",
   "pygments_lexer": "ipython3",
   "version": "3.12.2"
  }
 },
 "nbformat": 4,
 "nbformat_minor": 5
}
